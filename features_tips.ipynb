{
 "metadata": {
  "name": ""
 },
 "nbformat": 3,
 "nbformat_minor": 0,
 "worksheets": [
  {
   "cells": [
    {
     "cell_type": "code",
     "collapsed": false,
     "input": [
      "import pandas as pd\n",
      "%pylab inline"
     ],
     "language": "python",
     "metadata": {},
     "outputs": [
      {
       "output_type": "stream",
       "stream": "stdout",
       "text": [
        "Populating the interactive namespace from numpy and matplotlib\n"
       ]
      }
     ],
     "prompt_number": 1
    },
    {
     "cell_type": "code",
     "collapsed": false,
     "input": [
      "df = pd.read_csv(\"data/tip.csv\") \n",
      "df.date = pd.to_datetime(df.date)"
     ],
     "language": "python",
     "metadata": {},
     "outputs": [],
     "prompt_number": 39
    },
    {
     "cell_type": "code",
     "collapsed": false,
     "input": [
      "dfd = df.set_index(\"date\")\n",
      "dfd.head()"
     ],
     "language": "python",
     "metadata": {},
     "outputs": [
      {
       "html": [
        "<div style=\"max-height:1000px;max-width:1500px;overflow:auto;\">\n",
        "<table border=\"1\" class=\"dataframe\">\n",
        "  <thead>\n",
        "    <tr style=\"text-align: right;\">\n",
        "      <th></th>\n",
        "      <th>user_id</th>\n",
        "      <th>text</th>\n",
        "      <th>business_id</th>\n",
        "      <th>likes</th>\n",
        "      <th>type</th>\n",
        "    </tr>\n",
        "    <tr>\n",
        "      <th>date</th>\n",
        "      <th></th>\n",
        "      <th></th>\n",
        "      <th></th>\n",
        "      <th></th>\n",
        "      <th></th>\n",
        "    </tr>\n",
        "  </thead>\n",
        "  <tbody>\n",
        "    <tr>\n",
        "      <th>2013-04-18</th>\n",
        "      <td> -6rEfobYjMxpUWLNxszaxQ</td>\n",
        "      <td>                            Don't waste your time.</td>\n",
        "      <td> cE27W9VPgO88Qxe4ol6y_g</td>\n",
        "      <td> 0</td>\n",
        "      <td> tip</td>\n",
        "    </tr>\n",
        "    <tr>\n",
        "      <th>2013-01-06</th>\n",
        "      <td> EZ0r9dKKtEGVx2CdnowPCw</td>\n",
        "      <td> Your GPS will not allow you to find this place...</td>\n",
        "      <td> mVHrayjG3uZ_RLHkLj-AMg</td>\n",
        "      <td> 0</td>\n",
        "      <td> tip</td>\n",
        "    </tr>\n",
        "    <tr>\n",
        "      <th>2013-12-03</th>\n",
        "      <td> xb6zEQCw9I-Gl0g06e1KsQ</td>\n",
        "      <td>                             Great drink specials!</td>\n",
        "      <td> KayYbHCt-RkbGcPdGOThNg</td>\n",
        "      <td> 0</td>\n",
        "      <td> tip</td>\n",
        "    </tr>\n",
        "    <tr>\n",
        "      <th>2013-07-22</th>\n",
        "      <td> fvTivrsJoUMYXnOJw9wZfw</td>\n",
        "      <td> Sarah rocks! Best waitress here! Be sure to ge...</td>\n",
        "      <td> wJr6kSA5dchdgOdwH6dZ2w</td>\n",
        "      <td> 0</td>\n",
        "      <td> tip</td>\n",
        "    </tr>\n",
        "    <tr>\n",
        "      <th>2013-04-22</th>\n",
        "      <td> 6GrH6gp09pqYykGv86D6Dg</td>\n",
        "      <td> Decent selection of more than just bar food. \\...</td>\n",
        "      <td> fNGIbpazjTRdXgwRY_NIXA</td>\n",
        "      <td> 0</td>\n",
        "      <td> tip</td>\n",
        "    </tr>\n",
        "  </tbody>\n",
        "</table>\n",
        "<p>5 rows \u00d7 5 columns</p>\n",
        "</div>"
       ],
       "metadata": {},
       "output_type": "pyout",
       "prompt_number": 48,
       "text": [
        "                           user_id  \\\n",
        "date                                 \n",
        "2013-04-18  -6rEfobYjMxpUWLNxszaxQ   \n",
        "2013-01-06  EZ0r9dKKtEGVx2CdnowPCw   \n",
        "2013-12-03  xb6zEQCw9I-Gl0g06e1KsQ   \n",
        "2013-07-22  fvTivrsJoUMYXnOJw9wZfw   \n",
        "2013-04-22  6GrH6gp09pqYykGv86D6Dg   \n",
        "\n",
        "                                                         text  \\\n",
        "date                                                            \n",
        "2013-04-18                             Don't waste your time.   \n",
        "2013-01-06  Your GPS will not allow you to find this place...   \n",
        "2013-12-03                              Great drink specials!   \n",
        "2013-07-22  Sarah rocks! Best waitress here! Be sure to ge...   \n",
        "2013-04-22  Decent selection of more than just bar food. \\...   \n",
        "\n",
        "                       business_id  likes type  \n",
        "date                                            \n",
        "2013-04-18  cE27W9VPgO88Qxe4ol6y_g      0  tip  \n",
        "2013-01-06  mVHrayjG3uZ_RLHkLj-AMg      0  tip  \n",
        "2013-12-03  KayYbHCt-RkbGcPdGOThNg      0  tip  \n",
        "2013-07-22  wJr6kSA5dchdgOdwH6dZ2w      0  tip  \n",
        "2013-04-22  fNGIbpazjTRdXgwRY_NIXA      0  tip  \n",
        "\n",
        "[5 rows x 5 columns]"
       ]
      }
     ],
     "prompt_number": 48
    },
    {
     "cell_type": "code",
     "collapsed": false,
     "input": [
      "dfd.likes.plot()"
     ],
     "language": "python",
     "metadata": {},
     "outputs": [
      {
       "metadata": {},
       "output_type": "pyout",
       "prompt_number": 44,
       "text": [
        "<matplotlib.axes.AxesSubplot at 0x7f43b092af90>"
       ]
      },
      {
       "metadata": {},
       "output_type": "display_data",
       "png": "[encoded data removed]",
       "text": [
        "<matplotlib.figure.Figure at 0x7f43c5196910>"
       ]
      }
     ],
     "prompt_number": 44
    },
    {
     "cell_type": "code",
     "collapsed": false,
     "input": [
      "dfd.likes.resample(\"M\", how = \"sum\").plot()"
     ],
     "language": "python",
     "metadata": {},
     "outputs": [
      {
       "metadata": {},
       "output_type": "pyout",
       "prompt_number": 45,
       "text": [
        "<matplotlib.axes.AxesSubplot at 0x7f43af548290>"
       ]
      },
      {
       "metadata": {},
       "output_type": "display_data",
       "png": "[encoded data removed]",
       "text": [
        "<matplotlib.figure.Figure at 0x7f43b9f4a550>"
       ]
      }
     ],
     "prompt_number": 45
    },
    {
     "cell_type": "code",
     "collapsed": false,
     "input": [
      "feats = dfd.likes.resample(\"M\", how = \"sum\")\n",
      "feats.columns = [\"tip_likes\"]\n",
      "feats.head()\n",
      "# feats[\"tips_biz\"] = dfd.business_id.resample(\"M\", how = \"count\")\n",
      "# feats[\"tips_user\"] = dfd.user_id.resample(\"M\", how = \"count\")"
     ],
     "language": "python",
     "metadata": {},
     "outputs": [
      {
       "metadata": {},
       "output_type": "pyout",
       "prompt_number": 113,
       "text": [
        "date\n",
        "2009-04-30    0\n",
        "2009-05-31    0\n",
        "2009-06-30    0\n",
        "2009-07-31    0\n",
        "2009-08-31    0\n",
        "Freq: M, Name: likes, dtype: int64"
       ]
      }
     ],
     "prompt_number": 113
    },
    {
     "cell_type": "code",
     "collapsed": false,
     "input": [
      "def coerce_int(s):\n",
      "    try:\n",
      "        return int(float(s))\n",
      "    except:\n",
      "        return s"
     ],
     "language": "python",
     "metadata": {},
     "outputs": [],
     "prompt_number": 104
    },
    {
     "cell_type": "code",
     "collapsed": false,
     "input": [
      "biz_id = pd.read_csv(\"data/business_id+codes.csv\", index_col=\"business_id\")\n",
      "biz_id.codes = biz_id.codes.map(coerce_int)\n",
      "biz_id.head()"
     ],
     "language": "python",
     "metadata": {},
     "outputs": [
      {
       "html": [
        "<div style=\"max-height:1000px;max-width:1500px;overflow:auto;\">\n",
        "<table border=\"1\" class=\"dataframe\">\n",
        "  <thead>\n",
        "    <tr style=\"text-align: right;\">\n",
        "      <th></th>\n",
        "      <th>codes</th>\n",
        "    </tr>\n",
        "    <tr>\n",
        "      <th>business_id</th>\n",
        "      <th></th>\n",
        "    </tr>\n",
        "  </thead>\n",
        "  <tbody>\n",
        "    <tr>\n",
        "      <th>vcNAWiLM4dR7D2nwwJ7nCA</th>\n",
        "      <td> 85018</td>\n",
        "    </tr>\n",
        "    <tr>\n",
        "      <th>UsFtqoBl7naz8AVUBZMjQQ</th>\n",
        "      <td> 15034</td>\n",
        "    </tr>\n",
        "    <tr>\n",
        "      <th>cE27W9VPgO88Qxe4ol6y_g</th>\n",
        "      <td> 15234</td>\n",
        "    </tr>\n",
        "    <tr>\n",
        "      <th>HZdLhv6COCleJMo7nPl-RA</th>\n",
        "      <td> 15241</td>\n",
        "    </tr>\n",
        "    <tr>\n",
        "      <th>mVHrayjG3uZ_RLHkLj-AMg</th>\n",
        "      <td> 15104</td>\n",
        "    </tr>\n",
        "  </tbody>\n",
        "</table>\n",
        "<p>5 rows \u00d7 1 columns</p>\n",
        "</div>"
       ],
       "metadata": {},
       "output_type": "pyout",
       "prompt_number": 106,
       "text": [
        "                        codes\n",
        "business_id                  \n",
        "vcNAWiLM4dR7D2nwwJ7nCA  85018\n",
        "UsFtqoBl7naz8AVUBZMjQQ  15034\n",
        "cE27W9VPgO88Qxe4ol6y_g  15234\n",
        "HZdLhv6COCleJMo7nPl-RA  15241\n",
        "mVHrayjG3uZ_RLHkLj-AMg  15104\n",
        "\n",
        "[5 rows x 1 columns]"
       ]
      }
     ],
     "prompt_number": 106
    },
    {
     "cell_type": "code",
     "collapsed": false,
     "input": [
      "df2 = df.set_index(\"business_id\").join(biz_id)\n",
      "dfd2 = df2.reset_index()\n",
      "dfd2[\"year\"] = dfd2.date.map(lambda x: str(x)[0:4])\n",
      "dfd2 = dfd2.set_index(\"date\")\n",
      "dfd2.head()"
     ],
     "language": "python",
     "metadata": {},
     "outputs": [
      {
       "html": [
        "<div style=\"max-height:1000px;max-width:1500px;overflow:auto;\">\n",
        "<table border=\"1\" class=\"dataframe\">\n",
        "  <thead>\n",
        "    <tr style=\"text-align: right;\">\n",
        "      <th></th>\n",
        "      <th>business_id</th>\n",
        "      <th>user_id</th>\n",
        "      <th>text</th>\n",
        "      <th>likes</th>\n",
        "      <th>type</th>\n",
        "      <th>codes</th>\n",
        "      <th>year</th>\n",
        "    </tr>\n",
        "    <tr>\n",
        "      <th>date</th>\n",
        "      <th></th>\n",
        "      <th></th>\n",
        "      <th></th>\n",
        "      <th></th>\n",
        "      <th></th>\n",
        "      <th></th>\n",
        "      <th></th>\n",
        "    </tr>\n",
        "  </thead>\n",
        "  <tbody>\n",
        "    <tr>\n",
        "      <th>2013-09-15</th>\n",
        "      <td> --1emggGHgoG6ipd_RMb-g</td>\n",
        "      <td> 6DuBPBgCN6YMowFwrp_P5g</td>\n",
        "      <td>              It's a gas station. Nothing special.</td>\n",
        "      <td> 0</td>\n",
        "      <td> tip</td>\n",
        "      <td> 89102</td>\n",
        "      <td> 2013</td>\n",
        "    </tr>\n",
        "    <tr>\n",
        "      <th>2014-02-09</th>\n",
        "      <td> --1emggGHgoG6ipd_RMb-g</td>\n",
        "      <td> jt4zoa6tk5q-4mWtuKHEPg</td>\n",
        "      <td> The temp. outside gets a lil cool &amp; this store...</td>\n",
        "      <td> 0</td>\n",
        "      <td> tip</td>\n",
        "      <td> 89102</td>\n",
        "      <td> 2014</td>\n",
        "    </tr>\n",
        "    <tr>\n",
        "      <th>2014-04-05</th>\n",
        "      <td> --1emggGHgoG6ipd_RMb-g</td>\n",
        "      <td> jlEAr91TDq1cdeE7P_MPnQ</td>\n",
        "      <td>                                             3.51$</td>\n",
        "      <td> 0</td>\n",
        "      <td> tip</td>\n",
        "      <td> 89102</td>\n",
        "      <td> 2014</td>\n",
        "    </tr>\n",
        "    <tr>\n",
        "      <th>2014-06-28</th>\n",
        "      <td> --1emggGHgoG6ipd_RMb-g</td>\n",
        "      <td> iHbJlgmSTdZro6j8od1Phw</td>\n",
        "      <td>                  Has car wash and 'detail center'</td>\n",
        "      <td> 0</td>\n",
        "      <td> tip</td>\n",
        "      <td> 89102</td>\n",
        "      <td> 2014</td>\n",
        "    </tr>\n",
        "    <tr>\n",
        "      <th>2014-07-17</th>\n",
        "      <td> --1emggGHgoG6ipd_RMb-g</td>\n",
        "      <td> jt4zoa6tk5q-4mWtuKHEPg</td>\n",
        "      <td>                          Beer is cheaper then gas</td>\n",
        "      <td> 0</td>\n",
        "      <td> tip</td>\n",
        "      <td> 89102</td>\n",
        "      <td> 2014</td>\n",
        "    </tr>\n",
        "  </tbody>\n",
        "</table>\n",
        "<p>5 rows \u00d7 7 columns</p>\n",
        "</div>"
       ],
       "metadata": {},
       "output_type": "pyout",
       "prompt_number": 128,
       "text": [
        "                       business_id                 user_id  \\\n",
        "date                                                         \n",
        "2013-09-15  --1emggGHgoG6ipd_RMb-g  6DuBPBgCN6YMowFwrp_P5g   \n",
        "2014-02-09  --1emggGHgoG6ipd_RMb-g  jt4zoa6tk5q-4mWtuKHEPg   \n",
        "2014-04-05  --1emggGHgoG6ipd_RMb-g  jlEAr91TDq1cdeE7P_MPnQ   \n",
        "2014-06-28  --1emggGHgoG6ipd_RMb-g  iHbJlgmSTdZro6j8od1Phw   \n",
        "2014-07-17  --1emggGHgoG6ipd_RMb-g  jt4zoa6tk5q-4mWtuKHEPg   \n",
        "\n",
        "                                                         text  likes type  \\\n",
        "date                                                                        \n",
        "2013-09-15               It's a gas station. Nothing special.      0  tip   \n",
        "2014-02-09  The temp. outside gets a lil cool & this store...      0  tip   \n",
        "2014-04-05                                              3.51$      0  tip   \n",
        "2014-06-28                   Has car wash and 'detail center'      0  tip   \n",
        "2014-07-17                           Beer is cheaper then gas      0  tip   \n",
        "\n",
        "            codes  year  \n",
        "date                     \n",
        "2013-09-15  89102  2013  \n",
        "2014-02-09  89102  2014  \n",
        "2014-04-05  89102  2014  \n",
        "2014-06-28  89102  2014  \n",
        "2014-07-17  89102  2014  \n",
        "\n",
        "[5 rows x 7 columns]"
       ]
      }
     ],
     "prompt_number": 128
    },
    {
     "cell_type": "code",
     "collapsed": false,
     "input": [
      "d14 = dfd2[dfd2.year == '2014']\n",
      "f14 = dfd.groupby([\"codes\",\"year\"])[\"likes\"].sum()\n",
      "f14"
     ],
     "language": "python",
     "metadata": {},
     "outputs": [
      {
       "metadata": {},
       "output_type": "pyout",
       "prompt_number": 135,
       "text": [
        "codes  year\n",
        "10501  2014    0\n",
        "15017  2014    0\n",
        "15034  2014    0\n",
        "15106  2014    0\n",
        "15120  2014    3\n",
        "15122  2014    0\n",
        "15132  2014    0\n",
        "15136  2014    0\n",
        "15147  2014    0\n",
        "15201  2014    4\n",
        "15202  2014    0\n",
        "15203  2014    3\n",
        "15205  2014    0\n",
        "15206  2014    4\n",
        "15207  2014    0\n",
        "...\n",
        "H7X    2014    0\n",
        "H8N    2014    0\n",
        "H8R    2014    0\n",
        "H8S    2014    0\n",
        "H8T    2014    1\n",
        "H8Y    2014    0\n",
        "H8Z    2014    0\n",
        "H9B    2014    0\n",
        "H9G    2014    0\n",
        "H9H    2014    0\n",
        "H9J    2014    0\n",
        "H9P    2014    0\n",
        "H9R    2014    0\n",
        "H9S    2014    0\n",
        "H9X    2014    0\n",
        "Name: likes, Length: 489, dtype: int64"
       ]
      }
     ],
     "prompt_number": 135
    },
    {
     "cell_type": "code",
     "collapsed": false,
     "input": [],
     "language": "python",
     "metadata": {},
     "outputs": []
    },
    {
     "cell_type": "code",
     "collapsed": false,
     "input": [
      "tips_year = dfd.resample(\"A\", how = \"sum\")\n",
      "tips_year.plot()"
     ],
     "language": "python",
     "metadata": {},
     "outputs": [
      {
       "metadata": {},
       "output_type": "pyout",
       "prompt_number": 70,
       "text": [
        "<matplotlib.axes.AxesSubplot at 0x7f43b9f5c2d0>"
       ]
      },
      {
       "metadata": {},
       "output_type": "display_data",
       "png": "[encoded data removed]",
       "text": [
        "<matplotlib.figure.Figure at 0x7f43af3d7f90>"
       ]
      }
     ],
     "prompt_number": 70
    },
    {
     "cell_type": "code",
     "collapsed": false,
     "input": [
      "gb_biz = dfd.groupby(\"business_id\")[\"likes\"].sum()\n",
      "gb_biz.value_counts()"
     ],
     "language": "python",
     "metadata": {},
     "outputs": [
      {
       "metadata": {},
       "output_type": "pyout",
       "prompt_number": 67,
       "text": [
        "0     37626\n",
        "1      3160\n",
        "2       737\n",
        "3       267\n",
        "4       132\n",
        "5        62\n",
        "6        43\n",
        "8        19\n",
        "7        17\n",
        "9        15\n",
        "10        8\n",
        "11        8\n",
        "13        4\n",
        "12        3\n",
        "15        3\n",
        "14        2\n",
        "25        1\n",
        "16        1\n",
        "18        1\n",
        "20        1\n",
        "28        1\n",
        "dtype: int64"
       ]
      }
     ],
     "prompt_number": 67
    },
    {
     "cell_type": "code",
     "collapsed": false,
     "input": [
      "gb_user = dfd.groupby(\"user_id\").mean()"
     ],
     "language": "python",
     "metadata": {},
     "outputs": []
    }
   ],
   "metadata": {}
  }
 ]
}