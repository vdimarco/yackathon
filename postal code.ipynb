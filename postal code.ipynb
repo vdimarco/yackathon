{
 "metadata": {
  "name": ""
 },
 "nbformat": 3,
 "nbformat_minor": 0,
 "worksheets": [
  {
   "cells": [
    {
     "cell_type": "code",
     "collapsed": false,
     "input": [
      "import pandas as pd\n",
      "import json"
     ],
     "language": "python",
     "metadata": {},
     "outputs": [],
     "prompt_number": 3
    },
    {
     "cell_type": "code",
     "collapsed": false,
     "input": [
      "b = pd.read_csv('data/qc_review.csv')"
     ],
     "language": "python",
     "metadata": {},
     "outputs": [],
     "prompt_number": 4
    },
    {
     "cell_type": "code",
     "collapsed": false,
     "input": [
      "import re\n",
      "postal_code_regex = re.compile(r\"(\\bH\\d\\w\\b)\")"
     ],
     "language": "python",
     "metadata": {},
     "outputs": [],
     "prompt_number": 56
    },
    {
     "cell_type": "code",
     "collapsed": false,
     "input": [
      "def find_postal_code(s):\n",
      "    matches = postal_code_regex.findall(s)\n",
      "    return matches[0] if matches else None\n",
      "    "
     ],
     "language": "python",
     "metadata": {},
     "outputs": [],
     "prompt_number": 32
    },
    {
     "cell_type": "code",
     "collapsed": false,
     "input": [
      "b['postal_code'] = b.full_address.map(find_postal_code)"
     ],
     "language": "python",
     "metadata": {},
     "outputs": [],
     "prompt_number": 33
    },
    {
     "cell_type": "code",
     "collapsed": false,
     "input": [
      "postal_code_regex.findall('sadasdf H2X 3B7')"
     ],
     "language": "python",
     "metadata": {},
     "outputs": [
      {
       "metadata": {},
       "output_type": "pyout",
       "prompt_number": 57,
       "text": [
        "['H2X']"
       ]
      }
     ],
     "prompt_number": 57
    },
    {
     "cell_type": "code",
     "collapsed": false,
     "input": [
      "b.postal_code.value_counts().to_csv('postal_codes_freq.csv')"
     ],
     "language": "python",
     "metadata": {},
     "outputs": [],
     "prompt_number": 37
    },
    {
     "cell_type": "markdown",
     "metadata": {},
     "source": [
      "Read the CSV freq csv"
     ]
    },
    {
     "cell_type": "code",
     "collapsed": false,
     "input": [
      "with open('postal_codes_freq.csv') as f:\n",
      "    print f.read()"
     ],
     "language": "python",
     "metadata": {},
     "outputs": [
      {
       "output_type": "stream",
       "stream": "stdout",
       "text": [
        "H2X,331\n",
        "H2Y,234\n",
        "H2W,209\n",
        "H2T,207\n",
        "H2J,202\n",
        "H3G,185\n",
        "H2L,182\n",
        "H3B,172\n",
        "H2S,158\n",
        "H3H,149\n",
        "H3A,136\n",
        "H2V,111\n",
        "H4A,102\n",
        "H2Z,100\n",
        "H4G,78\n",
        "H4C,69\n",
        "H2R,57\n",
        "H7T,55\n",
        "H3C,55\n",
        "H3Z,52\n",
        "H3J,44\n",
        "H2H,39\n",
        "H9B,36\n",
        "H3T,32\n",
        "H1W,29\n",
        "H9R,27\n",
        "H4L,27\n",
        "H3N,27\n",
        "H1V,26\n",
        "H2G,25\n",
        "H2K,24\n",
        "H4N,24\n",
        "H4P,23\n",
        "H3X,22\n",
        "H3K,22\n",
        "H9H,21\n",
        "H3W,21\n",
        "H4R,19\n",
        "H7S,19\n",
        "H4B,18\n",
        "H3S,17\n",
        "H1Y,17\n",
        "H2P,16\n",
        "H9G,15\n",
        "H1N,15\n",
        "H8Y,14\n",
        "H9S,14\n",
        "H8N,13\n",
        "H9X,12\n",
        "H8S,12\n",
        "H3E,12\n",
        "H4Y,12\n",
        "H1S,12\n",
        "H7M,12\n",
        "H4E,10\n",
        "H4T,10\n",
        "H2M,10\n",
        "H7L,10\n",
        "H4H,9\n",
        "H7V,8\n",
        "H7X,8\n",
        "H4V,8\n",
        "H3L,8\n",
        "H1X,8\n",
        "H2C,8\n",
        "H9P,7\n",
        "H5B,7\n",
        "H3V,7\n",
        "H1M,6\n",
        "H3P,6\n",
        "H1Z,6\n",
        "H1P,6\n",
        "H5A,5\n",
        "H7W,5\n",
        "H2A,5\n",
        "H2E,5\n",
        "H8R,4\n",
        "H1R,4\n",
        "H1H,3\n",
        "H1T,3\n",
        "H1E,3\n",
        "H9W,3\n",
        "H8T,3\n",
        "H3R,3\n",
        "H7P,3\n",
        "H4K,3\n",
        "H4S,3\n",
        "H4X,3\n",
        "H4M,3\n",
        "H7G,3\n",
        "H7N,3\n",
        "H1J,2\n",
        "H8Z,2\n",
        "H9J,2\n",
        "H1B,2\n",
        "H9A,2\n",
        "H2N,2\n",
        "H8P,2\n",
        "H4J,1\n",
        "H4W,1\n",
        "H1G,1\n",
        "H9C,1\n",
        "H2B,1\n",
        "H3M,1\n",
        "H7R,1\n",
        "H7E,1\n",
        "H3Y,1\n",
        "\n"
       ]
      }
     ],
     "prompt_number": 38
    },
    {
     "cell_type": "code",
     "collapsed": false,
     "input": [
      "b['price_range'] = b.attributes.map(lambda s: eval(s).get('Price Range'))\n"
     ],
     "language": "python",
     "metadata": {},
     "outputs": [],
     "prompt_number": 7
    },
    {
     "cell_type": "code",
     "collapsed": false,
     "input": [
      "b.price_range.describe()"
     ],
     "language": "python",
     "metadata": {},
     "outputs": [
      {
       "metadata": {},
       "output_type": "pyout",
       "prompt_number": 8,
       "text": [
        "count    3159.000000\n",
        "mean        2.057930\n",
        "std         0.716316\n",
        "min         1.000000\n",
        "25%         2.000000\n",
        "50%         2.000000\n",
        "75%         2.000000\n",
        "max         4.000000\n",
        "Name: price_range, dtype: float64"
       ]
      }
     ],
     "prompt_number": 8
    },
    {
     "cell_type": "code",
     "collapsed": false,
     "input": [
      "b[b.postal_code == 'H2X'].price_range.describe()"
     ],
     "language": "python",
     "metadata": {},
     "outputs": [
      {
       "metadata": {},
       "output_type": "pyout",
       "prompt_number": 41,
       "text": [
        "count    272.000000\n",
        "mean       1.955882\n",
        "std        0.722518\n",
        "min        1.000000\n",
        "25%        1.750000\n",
        "50%        2.000000\n",
        "75%        2.000000\n",
        "max        4.000000\n",
        "Name: price_range, dtype: float64"
       ]
      }
     ],
     "prompt_number": 41
    },
    {
     "cell_type": "code",
     "collapsed": false,
     "input": [
      "b[b.postal_code == 'H2Z'].price_range.describe()"
     ],
     "language": "python",
     "metadata": {},
     "outputs": [
      {
       "metadata": {},
       "output_type": "pyout",
       "prompt_number": 39,
       "text": [
        "count    91.000000\n",
        "mean      1.802198\n",
        "std       0.718328\n",
        "min       1.000000\n",
        "25%       1.000000\n",
        "50%       2.000000\n",
        "75%       2.000000\n",
        "max       4.000000\n",
        "Name: price_range, dtype: float64"
       ]
      }
     ],
     "prompt_number": 39
    },
    {
     "cell_type": "code",
     "collapsed": false,
     "input": [
      "b[b.postal_code == 'H3B'].price_range.describe()"
     ],
     "language": "python",
     "metadata": {},
     "outputs": [
      {
       "metadata": {},
       "output_type": "pyout",
       "prompt_number": 40,
       "text": [
        "count    144.000000\n",
        "mean       2.159722\n",
        "std        0.725781\n",
        "min        1.000000\n",
        "25%        2.000000\n",
        "50%        2.000000\n",
        "75%        3.000000\n",
        "max        4.000000\n",
        "Name: price_range, dtype: float64"
       ]
      }
     ],
     "prompt_number": 40
    },
    {
     "cell_type": "code",
     "collapsed": false,
     "input": [
      "b.groupby('postal_code')['price_range'].mean()\n"
     ],
     "language": "python",
     "metadata": {},
     "outputs": [
      {
       "metadata": {},
       "output_type": "pyout",
       "prompt_number": 52,
       "text": [
        "postal_code\n",
        "H1B            2.000000\n",
        "H1E            2.500000\n",
        "H1G            2.000000\n",
        "H1H            2.000000\n",
        "H1J            2.000000\n",
        "H1M            2.166667\n",
        "H1N            2.000000\n",
        "H1P            2.200000\n",
        "H1R            2.500000\n",
        "H1S            2.000000\n",
        "H1T            2.000000\n",
        "H1V            1.928571\n",
        "H1W            1.846154\n",
        "H1X            2.000000\n",
        "H1Y            2.153846\n",
        "...\n",
        "H8S            1.750000\n",
        "H8T            1.000000\n",
        "H8Y            2.000000\n",
        "H8Z            2.000000\n",
        "H9A            2.000000\n",
        "H9B            2.071429\n",
        "H9C            4.000000\n",
        "H9G            2.250000\n",
        "H9H            2.285714\n",
        "H9J            3.000000\n",
        "H9P            2.142857\n",
        "H9R            2.272727\n",
        "H9S            2.272727\n",
        "H9W            2.000000\n",
        "H9X            2.222222\n",
        "Name: price_range, Length: 107, dtype: float64"
       ]
      }
     ],
     "prompt_number": 52
    },
    {
     "cell_type": "code",
     "collapsed": false,
     "input": [],
     "language": "python",
     "metadata": {},
     "outputs": []
    }
   ],
   "metadata": {}
  }
 ]
}