{
 "metadata": {
  "name": ""
 },
 "nbformat": 3,
 "nbformat_minor": 0,
 "worksheets": [
  {
   "cells": [
    {
     "cell_type": "code",
     "collapsed": false,
     "input": [
      "import json\n",
      "import pandas as pd"
     ],
     "language": "python",
     "metadata": {},
     "outputs": [],
     "prompt_number": 23
    },
    {
     "cell_type": "heading",
     "level": 3,
     "metadata": {},
     "source": [
      "Load the list of ids of QC businesses"
     ]
    },
    {
     "cell_type": "code",
     "collapsed": false,
     "input": [
      "qc_business_ids = set()\n",
      "with open('data/qc_business_ids.txt') as f:\n",
      "    for line in f:\n",
      "        qc_business_ids.add(line.strip())"
     ],
     "language": "python",
     "metadata": {},
     "outputs": [],
     "prompt_number": 2
    },
    {
     "cell_type": "heading",
     "level": 3,
     "metadata": {},
     "source": [
      "Load reviews that belong to QC businesses"
     ]
    },
    {
     "cell_type": "code",
     "collapsed": false,
     "input": [
      "qc_reviews = []\n",
      "with open('data/review.json') as f:\n",
      "    count = 0;\n",
      "    for line in f:\n",
      "        count += 1\n",
      "        if (count % 100000 == 0):\n",
      "            print count\n",
      "        r = json.loads(line)\n",
      "        if r['business_id'] in qc_business_ids:\n",
      "            qc_reviews.append(r)"
     ],
     "language": "python",
     "metadata": {},
     "outputs": [
      {
       "output_type": "stream",
       "stream": "stdout",
       "text": [
        "100000\n",
        "200000"
       ]
      },
      {
       "output_type": "stream",
       "stream": "stdout",
       "text": [
        "\n",
        "300000"
       ]
      },
      {
       "output_type": "stream",
       "stream": "stdout",
       "text": [
        "\n",
        "400000"
       ]
      },
      {
       "output_type": "stream",
       "stream": "stdout",
       "text": [
        "\n",
        "500000"
       ]
      },
      {
       "output_type": "stream",
       "stream": "stdout",
       "text": [
        "\n",
        "600000"
       ]
      },
      {
       "output_type": "stream",
       "stream": "stdout",
       "text": [
        "\n",
        "700000"
       ]
      },
      {
       "output_type": "stream",
       "stream": "stdout",
       "text": [
        "\n",
        "800000"
       ]
      },
      {
       "output_type": "stream",
       "stream": "stdout",
       "text": [
        "\n",
        "900000"
       ]
      },
      {
       "output_type": "stream",
       "stream": "stdout",
       "text": [
        "\n",
        "1000000"
       ]
      },
      {
       "output_type": "stream",
       "stream": "stdout",
       "text": [
        "\n",
        "1100000"
       ]
      },
      {
       "output_type": "stream",
       "stream": "stdout",
       "text": [
        "\n",
        "1200000"
       ]
      },
      {
       "output_type": "stream",
       "stream": "stdout",
       "text": [
        "\n",
        "1300000"
       ]
      },
      {
       "output_type": "stream",
       "stream": "stdout",
       "text": [
        "\n",
        "1400000"
       ]
      },
      {
       "output_type": "stream",
       "stream": "stdout",
       "text": [
        "\n",
        "1500000"
       ]
      },
      {
       "output_type": "stream",
       "stream": "stdout",
       "text": [
        "\n"
       ]
      }
     ],
     "prompt_number": 7
    },
    {
     "cell_type": "heading",
     "level": 3,
     "metadata": {},
     "source": [
      "How many QC reviews are there?"
     ]
    },
    {
     "cell_type": "code",
     "collapsed": false,
     "input": [
      "len(qc_reviews)"
     ],
     "language": "python",
     "metadata": {},
     "outputs": [
      {
       "metadata": {},
       "output_type": "pyout",
       "prompt_number": 9,
       "text": [
        "49484"
       ]
      }
     ],
     "prompt_number": 9
    },
    {
     "cell_type": "heading",
     "level": 3,
     "metadata": {},
     "source": [
      "Save the QC reviews to file"
     ]
    },
    {
     "cell_type": "code",
     "collapsed": false,
     "input": [
      "with open('data/qc_reviews.json', 'w') as f:\n",
      "    for review in qc_reviews:\n",
      "        f.write(json.dumps(review) + \"\\n\")\n",
      "        "
     ],
     "language": "python",
     "metadata": {},
     "outputs": [],
     "prompt_number": 10
    },
    {
     "cell_type": "heading",
     "level": 3,
     "metadata": {},
     "source": [
      "Find reviews with vulgar words"
     ]
    },
    {
     "cell_type": "code",
     "collapsed": false,
     "input": [
      "vulgar_reviews = filter(lambda r: 'fuck' in r['text'] or 'shit' in r['text'], qc_reviews)"
     ],
     "language": "python",
     "metadata": {},
     "outputs": [],
     "prompt_number": 20
    },
    {
     "cell_type": "heading",
     "level": 3,
     "metadata": {},
     "source": [
      "Find number of vulgar reviews per user"
     ]
    },
    {
     "cell_type": "code",
     "collapsed": false,
     "input": [
      "from collections import Counter\n",
      "vulgar_ids = Counter([r['user_id'] for r in vulgar_reviews])"
     ],
     "language": "python",
     "metadata": {},
     "outputs": [],
     "prompt_number": 52
    },
    {
     "cell_type": "heading",
     "level": 3,
     "metadata": {},
     "source": [
      "Find the 10 most vulgar users"
     ]
    },
    {
     "cell_type": "code",
     "collapsed": false,
     "input": [
      "vulgar_ids.most_common(10)"
     ],
     "language": "python",
     "metadata": {},
     "outputs": [
      {
       "metadata": {},
       "output_type": "pyout",
       "prompt_number": 54,
       "text": [
        "[(u'Vi6yC7XiZDADYG73Z0MJAQ', 17),\n",
        " (u'DMhUSDM3UE2u5KFwtifnFQ', 15),\n",
        " (u'yJErEI-wHdSjfTe7_T7WDg', 10),\n",
        " (u'z0lWl9qLCqQKaH_c0OsMdw', 9),\n",
        " (u'szvUQKj5FB6wFN8e-Gdg5Q', 8),\n",
        " (u'JDTCm44qBE-mROjY-CdMKA', 8),\n",
        " (u'zC39vjBhod1eJZrv910AjA', 7),\n",
        " (u'8f8-dYKQsvS6QKKH98iPzw', 5),\n",
        " (u'gtuU5F0BCz49Pu3hm8EvAw', 4),\n",
        " (u'X0C-0r0zaCoq3-5lZq2TxA', 3)]"
       ]
      }
     ],
     "prompt_number": 54
    },
    {
     "cell_type": "heading",
     "level": 3,
     "metadata": {},
     "source": [
      "What are the most frequently used words?"
     ]
    },
    {
     "cell_type": "code",
     "collapsed": false,
     "input": [
      "import nltk\n",
      "import nltk.corpus\n",
      "stopwords = nltk.corpus.stopwords.words('english')"
     ],
     "language": "python",
     "metadata": {},
     "outputs": [],
     "prompt_number": 80
    },
    {
     "cell_type": "code",
     "collapsed": false,
     "input": [
      "word_count = Counter()"
     ],
     "language": "python",
     "metadata": {},
     "outputs": [],
     "prompt_number": 81
    },
    {
     "cell_type": "code",
     "collapsed": false,
     "input": [
      "for r in qc_reviews:\n",
      "    tokens = [t.lower() for t in nltk.word_tokenize(r['text'])]\n",
      "    word_count.update(filter(lambda t: t not in stopwords, tokens))"
     ],
     "language": "python",
     "metadata": {},
     "outputs": [],
     "prompt_number": 85
    },
    {
     "cell_type": "code",
     "collapsed": false,
     "input": [
      "word_count.most_common(80)"
     ],
     "language": "python",
     "metadata": {},
     "outputs": [
      {
       "metadata": {},
       "output_type": "pyout",
       "prompt_number": 89,
       "text": [
        "[(u'.', 339942),\n",
        " (u',', 267275),\n",
        " (u'!', 57184),\n",
        " (u')', 34826),\n",
        " (u\"'s\", 33389),\n",
        " (u'(', 32147),\n",
        " (u\"n't\", 31533),\n",
        " (u'de', 30744),\n",
        " (u'place', 28900),\n",
        " (u'good', 26449),\n",
        " (u'food', 24424),\n",
        " (u'et', 20458),\n",
        " (u'...', 19112),\n",
        " (u'great', 18997),\n",
        " (u'le', 18837),\n",
        " (u'la', 17732),\n",
        " (u'service', 17332),\n",
        " (u'one', 16908),\n",
        " (u'like', 16703),\n",
        " (u'montreal', 16224),\n",
        " (u'-', 15613),\n",
        " (u':', 15234),\n",
        " (u'un', 13695),\n",
        " (u'really', 13419),\n",
        " (u'would', 13389),\n",
        " (u'\\xe0', 12910),\n",
        " (u'get', 12561),\n",
        " (u'go', 12455),\n",
        " (u'les', 11932),\n",
        " (u'time', 11924),\n",
        " (u'restaurant', 11829),\n",
        " (u'$', 11290),\n",
        " (u'pour', 11044),\n",
        " (u'also', 10942),\n",
        " (u'?', 10922),\n",
        " (u'back', 10563),\n",
        " (u'nice', 10480),\n",
        " (u\"''\", 9963),\n",
        " (u'``', 9851),\n",
        " (u'us', 9525),\n",
        " (u'menu', 9495),\n",
        " (u'well', 9234),\n",
        " (u'best', 9055),\n",
        " (u'est', 8814),\n",
        " (u'des', 8782),\n",
        " (u\"'ve\", 8765),\n",
        " (u'que', 8309),\n",
        " (u'little', 8233),\n",
        " (u'une', 8064),\n",
        " (u'pas', 8035),\n",
        " (u'even', 7869),\n",
        " (u'delicious', 7769),\n",
        " (u'could', 7661),\n",
        " (u'en', 7610),\n",
        " (u'je', 7595),\n",
        " (u'much', 7356),\n",
        " (u'ordered', 7340),\n",
        " (u'got', 7292),\n",
        " (u\"'m\", 7115),\n",
        " (u'staff', 6884),\n",
        " (u'pretty', 6700),\n",
        " (u'try', 6688),\n",
        " (u'people', 6608),\n",
        " (u\"'re\", 6432),\n",
        " (u'first', 6430),\n",
        " (u'du', 6429),\n",
        " (u'friendly', 6229),\n",
        " (u'night', 6172),\n",
        " (u'definitely', 6167),\n",
        " (u'came', 6134),\n",
        " (u'bit', 6128),\n",
        " (u'order', 6041),\n",
        " (u'went', 5988),\n",
        " (u'bar', 5826),\n",
        " (u'meat', 5785),\n",
        " (u'chicken', 5670),\n",
        " (u'plus', 5616),\n",
        " (u'mais', 5605),\n",
        " (u'two', 5582),\n",
        " (u'made', 5565)]"
       ]
      }
     ],
     "prompt_number": 89
    },
    {
     "cell_type": "code",
     "collapsed": false,
     "input": [],
     "language": "python",
     "metadata": {},
     "outputs": []
    }
   ],
   "metadata": {}
  }
 ]
}